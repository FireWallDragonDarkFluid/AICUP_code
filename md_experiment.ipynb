{
 "cells": [
  {
   "cell_type": "code",
   "execution_count": 1,
   "metadata": {},
   "outputs": [
    {
     "name": "stderr",
     "output_type": "stream",
     "text": [
      "/home/tony/anaconda3/envs/pikachu/lib/python3.9/site-packages/tqdm/auto.py:22: TqdmWarning: IProgress not found. Please update jupyter and ipywidgets. See https://ipywidgets.readthedocs.io/en/stable/user_install.html\n",
      "  from .autonotebook import tqdm as notebook_tqdm\n",
      "/home/tony/anaconda3/envs/pikachu/lib/python3.9/site-packages/torch/functional.py:478: UserWarning: torch.meshgrid: in an upcoming release, it will be required to pass the indexing argument. (Triggered internally at  ../aten/src/ATen/native/TensorShape.cpp:2894.)\n",
      "  return _VF.meshgrid(tensors, **kwargs)  # type: ignore[attr-defined]\n"
     ]
    },
    {
     "data": {
      "text/html": [
       "\n",
       "<style>\n",
       "    /* Turns off some styling */\n",
       "    progress {\n",
       "        /* gets rid of default border in Firefox and Opera. */\n",
       "        border: none;\n",
       "        /* Needs to be in here for Safari polyfill so background images work as expected. */\n",
       "        background-size: auto;\n",
       "    }\n",
       "    progress:not([value]), progress:not([value])::-webkit-progress-bar {\n",
       "        background: repeating-linear-gradient(45deg, #7e7e7e, #7e7e7e 10px, #5c5c5c 10px, #5c5c5c 20px);\n",
       "    }\n",
       "    .progress-bar-interrupted, .progress-bar-interrupted::-webkit-progress-bar {\n",
       "        background: #F44336;\n",
       "    }\n",
       "</style>\n"
      ],
      "text/plain": [
       "<IPython.core.display.HTML object>"
      ]
     },
     "metadata": {},
     "output_type": "display_data"
    },
    {
     "data": {
      "text/html": [
       "<table border=\"1\" class=\"dataframe\">\n",
       "  <thead>\n",
       "    <tr style=\"text-align: left;\">\n",
       "      <th>epoch</th>\n",
       "      <th>train_loss</th>\n",
       "      <th>valid_loss</th>\n",
       "      <th>error_rate</th>\n",
       "      <th>time</th>\n",
       "    </tr>\n",
       "  </thead>\n",
       "  <tbody>\n",
       "    <tr>\n",
       "      <td>0</td>\n",
       "      <td>1.168767</td>\n",
       "      <td>0.892426</td>\n",
       "      <td>0.268573</td>\n",
       "      <td>13:27</td>\n",
       "    </tr>\n",
       "  </tbody>\n",
       "</table>"
      ],
      "text/plain": [
       "<IPython.core.display.HTML object>"
      ]
     },
     "metadata": {},
     "output_type": "display_data"
    },
    {
     "name": "stdout",
     "output_type": "stream",
     "text": [
      "Better model found at epoch 0 with error_rate value: 0.2685733437538147.\n"
     ]
    },
    {
     "data": {
      "text/html": [
       "\n",
       "<style>\n",
       "    /* Turns off some styling */\n",
       "    progress {\n",
       "        /* gets rid of default border in Firefox and Opera. */\n",
       "        border: none;\n",
       "        /* Needs to be in here for Safari polyfill so background images work as expected. */\n",
       "        background-size: auto;\n",
       "    }\n",
       "    progress:not([value]), progress:not([value])::-webkit-progress-bar {\n",
       "        background: repeating-linear-gradient(45deg, #7e7e7e, #7e7e7e 10px, #5c5c5c 10px, #5c5c5c 20px);\n",
       "    }\n",
       "    .progress-bar-interrupted, .progress-bar-interrupted::-webkit-progress-bar {\n",
       "        background: #F44336;\n",
       "    }\n",
       "</style>\n"
      ],
      "text/plain": [
       "<IPython.core.display.HTML object>"
      ]
     },
     "metadata": {},
     "output_type": "display_data"
    },
    {
     "data": {
      "text/html": [
       "<table border=\"1\" class=\"dataframe\">\n",
       "  <thead>\n",
       "    <tr style=\"text-align: left;\">\n",
       "      <th>epoch</th>\n",
       "      <th>train_loss</th>\n",
       "      <th>valid_loss</th>\n",
       "      <th>error_rate</th>\n",
       "      <th>time</th>\n",
       "    </tr>\n",
       "  </thead>\n",
       "  <tbody>\n",
       "    <tr>\n",
       "      <td>0</td>\n",
       "      <td>0.778429</td>\n",
       "      <td>0.593186</td>\n",
       "      <td>0.178304</td>\n",
       "      <td>18:22</td>\n",
       "    </tr>\n",
       "    <tr>\n",
       "      <td>1</td>\n",
       "      <td>0.651901</td>\n",
       "      <td>0.535826</td>\n",
       "      <td>0.158865</td>\n",
       "      <td>18:45</td>\n",
       "    </tr>\n",
       "    <tr>\n",
       "      <td>2</td>\n",
       "      <td>0.550651</td>\n",
       "      <td>0.498044</td>\n",
       "      <td>0.150598</td>\n",
       "      <td>18:14</td>\n",
       "    </tr>\n",
       "    <tr>\n",
       "      <td>3</td>\n",
       "      <td>0.529487</td>\n",
       "      <td>0.483204</td>\n",
       "      <td>0.144788</td>\n",
       "      <td>18:15</td>\n",
       "    </tr>\n",
       "    <tr>\n",
       "      <td>4</td>\n",
       "      <td>0.595679</td>\n",
       "      <td>0.475221</td>\n",
       "      <td>0.140655</td>\n",
       "      <td>18:29</td>\n",
       "    </tr>\n",
       "    <tr>\n",
       "      <td>5</td>\n",
       "      <td>0.449449</td>\n",
       "      <td>0.485709</td>\n",
       "      <td>0.143559</td>\n",
       "      <td>18:16</td>\n",
       "    </tr>\n",
       "    <tr>\n",
       "      <td>6</td>\n",
       "      <td>0.459757</td>\n",
       "      <td>0.477058</td>\n",
       "      <td>0.136633</td>\n",
       "      <td>18:20</td>\n",
       "    </tr>\n",
       "    <tr>\n",
       "      <td>7</td>\n",
       "      <td>0.447898</td>\n",
       "      <td>0.491447</td>\n",
       "      <td>0.142442</td>\n",
       "      <td>18:07</td>\n",
       "    </tr>\n",
       "    <tr>\n",
       "      <td>8</td>\n",
       "      <td>0.433057</td>\n",
       "      <td>0.473698</td>\n",
       "      <td>0.135851</td>\n",
       "      <td>18:08</td>\n",
       "    </tr>\n",
       "    <tr>\n",
       "      <td>9</td>\n",
       "      <td>0.414311</td>\n",
       "      <td>0.509951</td>\n",
       "      <td>0.139314</td>\n",
       "      <td>18:08</td>\n",
       "    </tr>\n",
       "    <tr>\n",
       "      <td>10</td>\n",
       "      <td>0.440148</td>\n",
       "      <td>0.548666</td>\n",
       "      <td>0.145012</td>\n",
       "      <td>18:18</td>\n",
       "    </tr>\n",
       "    <tr>\n",
       "      <td>11</td>\n",
       "      <td>0.433454</td>\n",
       "      <td>0.541740</td>\n",
       "      <td>0.140990</td>\n",
       "      <td>18:45</td>\n",
       "    </tr>\n",
       "  </tbody>\n",
       "</table>"
      ],
      "text/plain": [
       "<IPython.core.display.HTML object>"
      ]
     },
     "metadata": {},
     "output_type": "display_data"
    },
    {
     "name": "stdout",
     "output_type": "stream",
     "text": [
      "Better model found at epoch 0 with error_rate value: 0.17830410599708557.\n",
      "Better model found at epoch 1 with error_rate value: 0.15886493027210236.\n",
      "Better model found at epoch 2 with error_rate value: 0.1505976915359497.\n",
      "Better model found at epoch 3 with error_rate value: 0.14478829503059387.\n",
      "Better model found at epoch 4 with error_rate value: 0.14065466821193695.\n",
      "Better model found at epoch 6 with error_rate value: 0.1366327852010727.\n",
      "No improvement since epoch 6: early stopping\n"
     ]
    }
   ],
   "source": [
    "import timm \n",
    "from pathlib import Path \n",
    "from fastai.vision.all import * \n",
    "\n",
    "trn_path = Path('./md_train')\n",
    "dls = ImageDataLoaders.from_folder(trn_path, valid_pct=0.1, item_tfms=Resize(640), batch_tfms=aug_transforms(size=(192), min_scale=0.75), bs=64//8)\n",
    "models = ['swinv2_large_window12_192_22k']\n",
    "for model in models:\n",
    "    model_save_name = model\n",
    "    learn = vision_learner(dls, \n",
    "                    model, \n",
    "                    path='./md_save', \n",
    "                    cbs=[EarlyStoppingCallback(monitor='error_rate', min_delta=0.001, patience=5), \n",
    "                        SaveModelCallback(monitor='error_rate', min_delta=0.001, fname=model_save_name),\n",
    "                        GradientAccumulation(64)\n",
    "                        ],\n",
    "                    metrics=error_rate,\n",
    "                    ).to_fp16()\n",
    "    learn.fine_tune(60, 0.01)\n",
    "    torch.cuda.empty_cache()"
   ]
  },
  {
   "cell_type": "code",
   "execution_count": 1,
   "metadata": {},
   "outputs": [
    {
     "name": "stderr",
     "output_type": "stream",
     "text": [
      "/home/tony/anaconda3/envs/pikachu/lib/python3.9/site-packages/tqdm/auto.py:22: TqdmWarning: IProgress not found. Please update jupyter and ipywidgets. See https://ipywidgets.readthedocs.io/en/stable/user_install.html\n",
      "  from .autonotebook import tqdm as notebook_tqdm\n",
      "/home/tony/anaconda3/envs/pikachu/lib/python3.9/site-packages/torch/functional.py:478: UserWarning: torch.meshgrid: in an upcoming release, it will be required to pass the indexing argument. (Triggered internally at  ../aten/src/ATen/native/TensorShape.cpp:2894.)\n",
      "  return _VF.meshgrid(tensors, **kwargs)  # type: ignore[attr-defined]\n"
     ]
    },
    {
     "data": {
      "text/html": [
       "\n",
       "<style>\n",
       "    /* Turns off some styling */\n",
       "    progress {\n",
       "        /* gets rid of default border in Firefox and Opera. */\n",
       "        border: none;\n",
       "        /* Needs to be in here for Safari polyfill so background images work as expected. */\n",
       "        background-size: auto;\n",
       "    }\n",
       "    progress:not([value]), progress:not([value])::-webkit-progress-bar {\n",
       "        background: repeating-linear-gradient(45deg, #7e7e7e, #7e7e7e 10px, #5c5c5c 10px, #5c5c5c 20px);\n",
       "    }\n",
       "    .progress-bar-interrupted, .progress-bar-interrupted::-webkit-progress-bar {\n",
       "        background: #F44336;\n",
       "    }\n",
       "</style>\n"
      ],
      "text/plain": [
       "<IPython.core.display.HTML object>"
      ]
     },
     "metadata": {},
     "output_type": "display_data"
    },
    {
     "data": {
      "text/html": [
       "<table border=\"1\" class=\"dataframe\">\n",
       "  <thead>\n",
       "    <tr style=\"text-align: left;\">\n",
       "      <th>epoch</th>\n",
       "      <th>train_loss</th>\n",
       "      <th>valid_loss</th>\n",
       "      <th>error_rate</th>\n",
       "      <th>time</th>\n",
       "    </tr>\n",
       "  </thead>\n",
       "  <tbody>\n",
       "    <tr>\n",
       "      <td>0</td>\n",
       "      <td>1.208276</td>\n",
       "      <td>0.861672</td>\n",
       "      <td>0.257737</td>\n",
       "      <td>13:28</td>\n",
       "    </tr>\n",
       "  </tbody>\n",
       "</table>"
      ],
      "text/plain": [
       "<IPython.core.display.HTML object>"
      ]
     },
     "metadata": {},
     "output_type": "display_data"
    },
    {
     "name": "stdout",
     "output_type": "stream",
     "text": [
      "Better model found at epoch 0 with error_rate value: 0.25773656368255615.\n"
     ]
    },
    {
     "data": {
      "text/html": [
       "\n",
       "<style>\n",
       "    /* Turns off some styling */\n",
       "    progress {\n",
       "        /* gets rid of default border in Firefox and Opera. */\n",
       "        border: none;\n",
       "        /* Needs to be in here for Safari polyfill so background images work as expected. */\n",
       "        background-size: auto;\n",
       "    }\n",
       "    progress:not([value]), progress:not([value])::-webkit-progress-bar {\n",
       "        background: repeating-linear-gradient(45deg, #7e7e7e, #7e7e7e 10px, #5c5c5c 10px, #5c5c5c 20px);\n",
       "    }\n",
       "    .progress-bar-interrupted, .progress-bar-interrupted::-webkit-progress-bar {\n",
       "        background: #F44336;\n",
       "    }\n",
       "</style>\n"
      ],
      "text/plain": [
       "<IPython.core.display.HTML object>"
      ]
     },
     "metadata": {},
     "output_type": "display_data"
    },
    {
     "data": {
      "text/html": [
       "<table border=\"1\" class=\"dataframe\">\n",
       "  <thead>\n",
       "    <tr style=\"text-align: left;\">\n",
       "      <th>epoch</th>\n",
       "      <th>train_loss</th>\n",
       "      <th>valid_loss</th>\n",
       "      <th>error_rate</th>\n",
       "      <th>time</th>\n",
       "    </tr>\n",
       "  </thead>\n",
       "  <tbody>\n",
       "    <tr>\n",
       "      <td>0</td>\n",
       "      <td>0.756265</td>\n",
       "      <td>0.577359</td>\n",
       "      <td>0.174729</td>\n",
       "      <td>18:15</td>\n",
       "    </tr>\n",
       "    <tr>\n",
       "      <td>1</td>\n",
       "      <td>0.614012</td>\n",
       "      <td>0.508895</td>\n",
       "      <td>0.151603</td>\n",
       "      <td>18:11</td>\n",
       "    </tr>\n",
       "    <tr>\n",
       "      <td>2</td>\n",
       "      <td>0.630662</td>\n",
       "      <td>0.488266</td>\n",
       "      <td>0.148363</td>\n",
       "      <td>17:58</td>\n",
       "    </tr>\n",
       "    <tr>\n",
       "      <td>3</td>\n",
       "      <td>0.543403</td>\n",
       "      <td>0.475473</td>\n",
       "      <td>0.142777</td>\n",
       "      <td>18:15</td>\n",
       "    </tr>\n",
       "    <tr>\n",
       "      <td>4</td>\n",
       "      <td>0.515783</td>\n",
       "      <td>0.469767</td>\n",
       "      <td>0.143336</td>\n",
       "      <td>18:14</td>\n",
       "    </tr>\n",
       "    <tr>\n",
       "      <td>5</td>\n",
       "      <td>0.452214</td>\n",
       "      <td>0.464788</td>\n",
       "      <td>0.137973</td>\n",
       "      <td>18:17</td>\n",
       "    </tr>\n",
       "    <tr>\n",
       "      <td>6</td>\n",
       "      <td>0.473378</td>\n",
       "      <td>0.480064</td>\n",
       "      <td>0.141325</td>\n",
       "      <td>18:01</td>\n",
       "    </tr>\n",
       "    <tr>\n",
       "      <td>7</td>\n",
       "      <td>0.409586</td>\n",
       "      <td>0.492962</td>\n",
       "      <td>0.143559</td>\n",
       "      <td>18:13</td>\n",
       "    </tr>\n",
       "    <tr>\n",
       "      <td>8</td>\n",
       "      <td>0.421384</td>\n",
       "      <td>0.495511</td>\n",
       "      <td>0.137973</td>\n",
       "      <td>18:13</td>\n",
       "    </tr>\n",
       "    <tr>\n",
       "      <td>9</td>\n",
       "      <td>0.434887</td>\n",
       "      <td>0.500934</td>\n",
       "      <td>0.142330</td>\n",
       "      <td>18:13</td>\n",
       "    </tr>\n",
       "    <tr>\n",
       "      <td>10</td>\n",
       "      <td>0.334715</td>\n",
       "      <td>0.559668</td>\n",
       "      <td>0.146464</td>\n",
       "      <td>18:13</td>\n",
       "    </tr>\n",
       "  </tbody>\n",
       "</table>"
      ],
      "text/plain": [
       "<IPython.core.display.HTML object>"
      ]
     },
     "metadata": {},
     "output_type": "display_data"
    },
    {
     "name": "stdout",
     "output_type": "stream",
     "text": [
      "Better model found at epoch 0 with error_rate value: 0.17472907900810242.\n",
      "Better model found at epoch 1 with error_rate value: 0.15160317718982697.\n",
      "Better model found at epoch 2 with error_rate value: 0.14836330711841583.\n",
      "Better model found at epoch 3 with error_rate value: 0.14277733862400055.\n",
      "Better model found at epoch 5 with error_rate value: 0.13797341287136078.\n",
      "No improvement since epoch 5: early stopping\n"
     ]
    }
   ],
   "source": [
    "import timm \n",
    "from pathlib import Path \n",
    "from fastai.vision.all import * \n",
    "\n",
    "trn_path = Path('./md_train')\n",
    "dls = ImageDataLoaders.from_folder(trn_path, seed=42, valid_pct=0.1, item_tfms=Resize(640), batch_tfms=aug_transforms(size=(192), min_scale=0.75), bs=64//8)\n",
    "models = ['swinv2_large_window12_192_22k']\n",
    "for model in models:\n",
    "    model_save_name = model\n",
    "    learn = vision_learner(dls, \n",
    "                    model, \n",
    "                    path='./md_save', \n",
    "                    cbs=[EarlyStoppingCallback(monitor='error_rate', min_delta=0.001, patience=5), \n",
    "                        SaveModelCallback(monitor='error_rate', min_delta=0.001, fname=model_save_name),\n",
    "                        GradientAccumulation(64)\n",
    "                        ],\n",
    "                    metrics=error_rate,\n",
    "                    ).to_fp16()\n",
    "    learn.fine_tune(60, 0.01)\n",
    "    torch.cuda.empty_cache()"
   ]
  },
  {
   "cell_type": "code",
   "execution_count": null,
   "metadata": {},
   "outputs": [],
   "source": []
  },
  {
   "cell_type": "code",
   "execution_count": 3,
   "metadata": {},
   "outputs": [
    {
     "data": {
      "text/html": [
       "\n",
       "<style>\n",
       "    /* Turns off some styling */\n",
       "    progress {\n",
       "        /* gets rid of default border in Firefox and Opera. */\n",
       "        border: none;\n",
       "        /* Needs to be in here for Safari polyfill so background images work as expected. */\n",
       "        background-size: auto;\n",
       "    }\n",
       "    progress:not([value]), progress:not([value])::-webkit-progress-bar {\n",
       "        background: repeating-linear-gradient(45deg, #7e7e7e, #7e7e7e 10px, #5c5c5c 10px, #5c5c5c 20px);\n",
       "    }\n",
       "    .progress-bar-interrupted, .progress-bar-interrupted::-webkit-progress-bar {\n",
       "        background: #F44336;\n",
       "    }\n",
       "</style>\n"
      ],
      "text/plain": [
       "<IPython.core.display.HTML object>"
      ]
     },
     "metadata": {},
     "output_type": "display_data"
    },
    {
     "data": {
      "text/html": [
       "<table border=\"1\" class=\"dataframe\">\n",
       "  <thead>\n",
       "    <tr style=\"text-align: left;\">\n",
       "      <th>epoch</th>\n",
       "      <th>train_loss</th>\n",
       "      <th>valid_loss</th>\n",
       "      <th>error_rate</th>\n",
       "      <th>time</th>\n",
       "    </tr>\n",
       "  </thead>\n",
       "  <tbody>\n",
       "    <tr>\n",
       "      <td>0</td>\n",
       "      <td>0.409041</td>\n",
       "      <td>0.438597</td>\n",
       "      <td>0.129371</td>\n",
       "      <td>14:02</td>\n",
       "    </tr>\n",
       "  </tbody>\n",
       "</table>"
      ],
      "text/plain": [
       "<IPython.core.display.HTML object>"
      ]
     },
     "metadata": {},
     "output_type": "display_data"
    },
    {
     "name": "stdout",
     "output_type": "stream",
     "text": [
      "Better model found at epoch 0 with error_rate value: 0.1293710172176361.\n"
     ]
    },
    {
     "data": {
      "text/html": [
       "\n",
       "<style>\n",
       "    /* Turns off some styling */\n",
       "    progress {\n",
       "        /* gets rid of default border in Firefox and Opera. */\n",
       "        border: none;\n",
       "        /* Needs to be in here for Safari polyfill so background images work as expected. */\n",
       "        background-size: auto;\n",
       "    }\n",
       "    progress:not([value]), progress:not([value])::-webkit-progress-bar {\n",
       "        background: repeating-linear-gradient(45deg, #7e7e7e, #7e7e7e 10px, #5c5c5c 10px, #5c5c5c 20px);\n",
       "    }\n",
       "    .progress-bar-interrupted, .progress-bar-interrupted::-webkit-progress-bar {\n",
       "        background: #F44336;\n",
       "    }\n",
       "</style>\n"
      ],
      "text/plain": [
       "<IPython.core.display.HTML object>"
      ]
     },
     "metadata": {},
     "output_type": "display_data"
    },
    {
     "data": {
      "text/html": [
       "<table border=\"1\" class=\"dataframe\">\n",
       "  <thead>\n",
       "    <tr style=\"text-align: left;\">\n",
       "      <th>epoch</th>\n",
       "      <th>train_loss</th>\n",
       "      <th>valid_loss</th>\n",
       "      <th>error_rate</th>\n",
       "      <th>time</th>\n",
       "    </tr>\n",
       "  </thead>\n",
       "  <tbody>\n",
       "    <tr>\n",
       "      <td>0</td>\n",
       "      <td>0.352919</td>\n",
       "      <td>0.440732</td>\n",
       "      <td>0.129483</td>\n",
       "      <td>17:43</td>\n",
       "    </tr>\n",
       "    <tr>\n",
       "      <td>1</td>\n",
       "      <td>0.371628</td>\n",
       "      <td>0.436724</td>\n",
       "      <td>0.129818</td>\n",
       "      <td>17:41</td>\n",
       "    </tr>\n",
       "    <tr>\n",
       "      <td>2</td>\n",
       "      <td>0.422831</td>\n",
       "      <td>0.438506</td>\n",
       "      <td>0.128812</td>\n",
       "      <td>17:42</td>\n",
       "    </tr>\n",
       "    <tr>\n",
       "      <td>3</td>\n",
       "      <td>0.402350</td>\n",
       "      <td>0.441540</td>\n",
       "      <td>0.129818</td>\n",
       "      <td>17:39</td>\n",
       "    </tr>\n",
       "    <tr>\n",
       "      <td>4</td>\n",
       "      <td>0.356579</td>\n",
       "      <td>0.439346</td>\n",
       "      <td>0.127807</td>\n",
       "      <td>17:42</td>\n",
       "    </tr>\n",
       "    <tr>\n",
       "      <td>5</td>\n",
       "      <td>0.362880</td>\n",
       "      <td>0.438261</td>\n",
       "      <td>0.128254</td>\n",
       "      <td>17:43</td>\n",
       "    </tr>\n",
       "    <tr>\n",
       "      <td>6</td>\n",
       "      <td>0.383988</td>\n",
       "      <td>0.433176</td>\n",
       "      <td>0.128254</td>\n",
       "      <td>17:41</td>\n",
       "    </tr>\n",
       "    <tr>\n",
       "      <td>7</td>\n",
       "      <td>0.355675</td>\n",
       "      <td>0.437387</td>\n",
       "      <td>0.128477</td>\n",
       "      <td>17:42</td>\n",
       "    </tr>\n",
       "    <tr>\n",
       "      <td>8</td>\n",
       "      <td>0.365616</td>\n",
       "      <td>0.435976</td>\n",
       "      <td>0.127807</td>\n",
       "      <td>17:43</td>\n",
       "    </tr>\n",
       "    <tr>\n",
       "      <td>9</td>\n",
       "      <td>0.348084</td>\n",
       "      <td>0.438772</td>\n",
       "      <td>0.127695</td>\n",
       "      <td>17:43</td>\n",
       "    </tr>\n",
       "  </tbody>\n",
       "</table>"
      ],
      "text/plain": [
       "<IPython.core.display.HTML object>"
      ]
     },
     "metadata": {},
     "output_type": "display_data"
    },
    {
     "name": "stdout",
     "output_type": "stream",
     "text": [
      "Better model found at epoch 0 with error_rate value: 0.12948274612426758.\n",
      "Better model found at epoch 4 with error_rate value: 0.12780694663524628.\n",
      "No improvement since epoch 4: early stopping\n"
     ]
    }
   ],
   "source": [
    "learn.fine_tune(60, 0.001)"
   ]
  },
  {
   "cell_type": "code",
   "execution_count": 4,
   "metadata": {},
   "outputs": [
    {
     "data": {
      "text/html": [
       "\n",
       "<style>\n",
       "    /* Turns off some styling */\n",
       "    progress {\n",
       "        /* gets rid of default border in Firefox and Opera. */\n",
       "        border: none;\n",
       "        /* Needs to be in here for Safari polyfill so background images work as expected. */\n",
       "        background-size: auto;\n",
       "    }\n",
       "    progress:not([value]), progress:not([value])::-webkit-progress-bar {\n",
       "        background: repeating-linear-gradient(45deg, #7e7e7e, #7e7e7e 10px, #5c5c5c 10px, #5c5c5c 20px);\n",
       "    }\n",
       "    .progress-bar-interrupted, .progress-bar-interrupted::-webkit-progress-bar {\n",
       "        background: #F44336;\n",
       "    }\n",
       "</style>\n"
      ],
      "text/plain": [
       "<IPython.core.display.HTML object>"
      ]
     },
     "metadata": {},
     "output_type": "display_data"
    },
    {
     "data": {
      "text/html": [
       "<table border=\"1\" class=\"dataframe\">\n",
       "  <thead>\n",
       "    <tr style=\"text-align: left;\">\n",
       "      <th>epoch</th>\n",
       "      <th>train_loss</th>\n",
       "      <th>valid_loss</th>\n",
       "      <th>error_rate</th>\n",
       "      <th>time</th>\n",
       "    </tr>\n",
       "  </thead>\n",
       "  <tbody>\n",
       "    <tr>\n",
       "      <td>0</td>\n",
       "      <td>0.427149</td>\n",
       "      <td>0.436872</td>\n",
       "      <td>0.126690</td>\n",
       "      <td>17:47</td>\n",
       "    </tr>\n",
       "    <tr>\n",
       "      <td>1</td>\n",
       "      <td>0.398134</td>\n",
       "      <td>0.445793</td>\n",
       "      <td>0.128030</td>\n",
       "      <td>17:45</td>\n",
       "    </tr>\n",
       "    <tr>\n",
       "      <td>2</td>\n",
       "      <td>0.416437</td>\n",
       "      <td>0.457377</td>\n",
       "      <td>0.134622</td>\n",
       "      <td>17:49</td>\n",
       "    </tr>\n",
       "    <tr>\n",
       "      <td>3</td>\n",
       "      <td>0.382744</td>\n",
       "      <td>0.465773</td>\n",
       "      <td>0.137750</td>\n",
       "      <td>17:46</td>\n",
       "    </tr>\n",
       "    <tr>\n",
       "      <td>4</td>\n",
       "      <td>0.447314</td>\n",
       "      <td>0.471700</td>\n",
       "      <td>0.140543</td>\n",
       "      <td>17:45</td>\n",
       "    </tr>\n",
       "    <tr>\n",
       "      <td>5</td>\n",
       "      <td>0.516140</td>\n",
       "      <td>0.514890</td>\n",
       "      <td>0.151491</td>\n",
       "      <td>17:46</td>\n",
       "    </tr>\n",
       "  </tbody>\n",
       "</table>"
      ],
      "text/plain": [
       "<IPython.core.display.HTML object>"
      ]
     },
     "metadata": {},
     "output_type": "display_data"
    },
    {
     "name": "stdout",
     "output_type": "stream",
     "text": [
      "Better model found at epoch 0 with error_rate value: 0.12668976187705994.\n",
      "No improvement since epoch 0: early stopping\n"
     ]
    }
   ],
   "source": [
    "learn.fit_one_cycle(60,0.01)"
   ]
  },
  {
   "cell_type": "markdown",
   "metadata": {},
   "source": [
    "## Swin"
   ]
  },
  {
   "cell_type": "code",
   "execution_count": null,
   "metadata": {},
   "outputs": [],
   "source": [
    "import timm \n",
    "from pathlib import Path \n",
    "from fastai.vision.all import * \n",
    "\n",
    "trn_path = Path('./md_train')\n",
    "dls = ImageDataLoaders.from_folder(trn_path, seed=42, valid_pct=0.1, item_tfms=Resize(640), batch_tfms=aug_transforms(size=(224), min_scale=0.75), bs=64//4)\n",
    "models = ['swin_small_patch4_window7_224', 'swin_s3_tiny_224', 'swin_s3_small_224', 'swin_tiny_patch4_window7_224', 'swin_base_patch4_window7_224_in22k']\n",
    "for model in models:\n",
    "    model_save_name = model\n",
    "    learn = vision_learner(dls, \n",
    "                    model, \n",
    "                    path='./md_save', \n",
    "                    cbs=[EarlyStoppingCallback(monitor='error_rate', min_delta=0.001, patience=3), \n",
    "                        SaveModelCallback(monitor='error_rate', min_delta=0.001, fname=model_save_name),\n",
    "                        GradientAccumulation(64)\n",
    "                        ],\n",
    "                    metrics=error_rate,\n",
    "                    ).to_fp16()\n",
    "    learn.fine_tune(12, 0.01)\n",
    "    torch.cuda.empty_cache()"
   ]
  },
  {
   "cell_type": "markdown",
   "metadata": {},
   "source": [
    "## Swinv2"
   ]
  },
  {
   "cell_type": "code",
   "execution_count": null,
   "metadata": {},
   "outputs": [],
   "source": [
    "import timm \n",
    "from pathlib import Path \n",
    "from fastai.vision.all import * \n",
    "\n",
    "trn_path = Path('./md_train')\n",
    "dls = ImageDataLoaders.from_folder(trn_path, seed=42, valid_pct=0.1, item_tfms=Resize(640), batch_tfms=aug_transforms(size=(224), min_scale=0.75))\n",
    "models = ['swinv2_cr_tiny_ns_224', 'swinv2_cr_small_ns_224']\n",
    "for model in models:\n",
    "    model_save_name = model\n",
    "    learn = vision_learner(dls, \n",
    "                    model, \n",
    "                    path='./md_save', \n",
    "                    cbs=[EarlyStoppingCallback(monitor='error_rate', min_delta=0.001, patience=3), \n",
    "                        SaveModelCallback(monitor='error_rate', min_delta=0.001, fname=model_save_name),\n",
    "                        ],\n",
    "                    metrics=error_rate,\n",
    "                    ).to_fp16()\n",
    "    learn.fine_tune(12, 0.01)\n",
    "    torch.cuda.empty_cache()"
   ]
  },
  {
   "cell_type": "markdown",
   "metadata": {},
   "source": [
    "## Vit"
   ]
  },
  {
   "cell_type": "code",
   "execution_count": null,
   "metadata": {},
   "outputs": [],
   "source": [
    "import timm \n",
    "from pathlib import Path \n",
    "from fastai.vision.all import * \n",
    "\n",
    "trn_path = Path('./md_train')\n",
    "dls = ImageDataLoaders.from_folder(trn_path, seed=42, valid_pct=0.1, item_tfms=Resize(640), batch_tfms=aug_transforms(size=(224),, min_scale=0.75))\n",
    "models = ['vit_small_patch16_224', 'vit_base_patch16_224_mill']\n",
    "for model in models:\n",
    "    model_save_name = model\n",
    "    learn = vision_learner(dls, \n",
    "                    model, \n",
    "                    path='./md_save', \n",
    "                    cbs=[EarlyStoppingCallback(monitor='error_rate', min_delta=0.001, patience=3), \n",
    "                        SaveModelCallback(monitor='error_rate', min_delta=0.001, fname=model_save_name),\n",
    "                        ],\n",
    "                    metrics=error_rate,\n",
    "                    ).to_fp16()\n",
    "    learn.fine_tune(12, 0.01)\n",
    "    torch.cuda.empty_cache()"
   ]
  },
  {
   "cell_type": "markdown",
   "metadata": {},
   "source": [
    "## convnext"
   ]
  },
  {
   "cell_type": "code",
   "execution_count": null,
   "metadata": {},
   "outputs": [],
   "source": [
    "import timm \n",
    "from pathlib import Path \n",
    "from fastai.vision.all import * \n",
    "\n",
    "trn_path = Path('./md_train')\n",
    "dls = ImageDataLoaders.from_folder(trn_path, seed=42, valid_pct=0.1, item_tfms=Resize(640), batch_tfms=aug_transforms(size=(224), min_scale=0.75))\n",
    "models = ['convnext_tiny_in22k', 'convnext_small_in22k']\n",
    "for model in models:\n",
    "    model_save_name = model\n",
    "    learn = vision_learner(dls, \n",
    "                    model, \n",
    "                    path='./md_save', \n",
    "                    cbs=[EarlyStoppingCallback(monitor='error_rate', min_delta=0.001, patience=3), \n",
    "                        SaveModelCallback(monitor='error_rate', min_delta=0.001, fname=model_save_name),\n",
    "                        ],\n",
    "                    metrics=error_rate,\n",
    "                    ).to_fp16()\n",
    "    learn.fine_tune(12, 0.01)\n",
    "    torch.cuda.empty_cache()"
   ]
  }
 ],
 "metadata": {
  "kernelspec": {
   "display_name": "Python 3.9.13 ('pikachu')",
   "language": "python",
   "name": "python3"
  },
  "language_info": {
   "codemirror_mode": {
    "name": "ipython",
    "version": 3
   },
   "file_extension": ".py",
   "mimetype": "text/x-python",
   "name": "python",
   "nbconvert_exporter": "python",
   "pygments_lexer": "ipython3",
   "version": "3.9.13"
  },
  "orig_nbformat": 4,
  "vscode": {
   "interpreter": {
    "hash": "cdff06e7fd3e06ff77d004ac69baa19aec6984eca5b531846547a8f7300dd784"
   }
  }
 },
 "nbformat": 4,
 "nbformat_minor": 2
}
